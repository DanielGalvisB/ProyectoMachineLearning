{
 "cells": [
  {
   "cell_type": "markdown",
   "id": "356e0898",
   "metadata": {},
   "source": [
    "# Análisis de Datos - Premier League\n",
    "\n",
    "En este notebook se analiza un dataset con estadísticas históricas de jugadores de la Premier League con el objetivo de predecir su rendimiento. Se realizará una limpieza de datos, análisis exploratorio y cálculo de estadísticas clave como valores nulos, ceros y covarianzas.\n",
    "\n",
    "Además, se identifican columnas poco relevantes que podrían eliminarse para facilitar futuros modelos predictivos.\n",
    "\n"
   ]
  },
  {
   "cell_type": "code",
   "execution_count": 1,
   "id": "d1b03c04",
   "metadata": {},
   "outputs": [
    {
     "name": "stdout",
     "output_type": "stream",
     "text": [
      "NumPy version: 2.2.4\n",
      "Pandas version: 2.2.3\n"
     ]
    }
   ],
   "source": [
    "import numpy as np\n",
    "import pandas as pd\n",
    "\n",
    "print(\"NumPy version:\", np.__version__)\n",
    "print(\"Pandas version:\", pd.__version__)\n"
   ]
  },
  {
   "cell_type": "code",
   "execution_count": 2,
   "id": "605d5559",
   "metadata": {},
   "outputs": [],
   "source": [
    "import pandas as pd\n",
    "\n",
    "# Abre el archivo y salta las líneas hasta encontrar @DATA\n",
    "with open(\"Premiere-League_Stats.txt\", \"r\", encoding=\"utf-8\") as file:\n",
    "    lines = file.readlines()\n",
    "\n",
    "# Encuentra el índice donde comienzan los datos\n",
    "data_index = next(i for i, line in enumerate(lines) if line.strip().upper() == \"@DATA\")\n",
    "\n",
    "# Lee solo los datos, ignorando la cabecera ARFF\n",
    "data_lines = lines[data_index + 1:]\n",
    "\n",
    "# Convierte en DataFrame\n",
    "from io import StringIO\n",
    "\n",
    "df = pd.read_csv(StringIO(\"\".join(data_lines)), header=None)\n"
   ]
  },
  {
   "cell_type": "code",
   "execution_count": 5,
   "id": "666d5dc1",
   "metadata": {},
   "outputs": [],
   "source": [
    "df.columns = [\n",
    "    \"Nombre\", \"Número_Camiseta\", \"Club\", \"Posición\", \"Nacionalidad\", \"Edad\", \"Apariciones\", \"Victorias\", \"Derrotas\", \"Goles\",\n",
    "    \"Goles_por_partido\", \"Goles_de_cabeza\", \"Goles_con_pie_derecho\", \"Goles_con_pie_izquierdo\", \"Penales_anotados\",\n",
    "    \"Tiros_libres_anotados\", \"Disparos\", \"Disparos_al_arco\", \"Precisión_disparo_%\", \"Tiros_al_palo\", \"Ocasiones_claras_falladas\",\n",
    "    \"Porterías_a_cero\", \"Goles_contra\", \"Entradas\", \"Éxito_entradas_%\", \"Entradas_como_último_hombre\", \"Disparos_bloqueados\",\n",
    "    \"Intercepciones\", \"Despejes\", \"Despejes_de_cabeza\", \"Despejes_sobre_la_línea\", \"Recuperaciones\", \"Duelos_ganados\",\n",
    "    \"Duelos_perdidos\", \"Duelos_50_50_exitosos\", \"Duelos_aéreos_ganados\", \"Duelos_aéreos_perdidos\", \"Autogoles\",\n",
    "    \"Errores_que_generan_gol\", \"Asistencias\", \"Pases\", \"Pases_por_partido\", \"Ocasiones_claras_creadas\", \"Centros\",\n",
    "    \"Precisión_centros_%\", \"Pases_filtrados\", \"Pases_largos_acertados\", \"Atajadas\", \"Penales_atajados\", \"Despejes_con_los_puños\",\n",
    "    \"Cortes_altos\", \"Atajadas_con_las_manos\", \"Cierres_como_líbero\", \"Saque_con_las_manos\", \"Saque_de_meta\", \"Tarjetas_amarillas\",\n",
    "    \"Tarjetas_rojas\", \"Faltas\", \"Fueras_de_juego\"\n",
    "]\n",
    "\n",
    "\n"
   ]
  },
  {
   "cell_type": "code",
   "execution_count": 6,
   "id": "ca72e307",
   "metadata": {},
   "outputs": [],
   "source": [
    "import numpy as np\n",
    "\n",
    "# Reemplazar los '?' por valores NaN\n",
    "df.replace('?', np.nan, inplace=True)\n",
    "\n",
    "# Convertir todas las columnas a numérico (las que puedan)\n",
    "for col in df.columns:\n",
    "    df[col] = pd.to_numeric(df[col], errors='coerce')\n"
   ]
  },
  {
   "cell_type": "markdown",
   "id": "a53ef976",
   "metadata": {},
   "source": [
    "## Conteo de valores nulos y ceros\n",
    "\n",
    "Antes de continuar con el análisis, es importante revisar la calidad del dataset. A continuación, se muestra el conteo de:\n",
    "\n",
    "- **Valores nulos (NaN)** por columna: indican datos faltantes que podrían afectar el análisis o los modelos.\n",
    "- **Valores en cero (0)** por columna: pueden representar ausencia de una acción (por ejemplo, 0 goles) o poca participación del jugador en ciertos aspectos del juego.\n",
    "\n",
    "Este paso permite identificar columnas que podrían ser eliminadas por tener demasiados valores faltantes o por no aportar información significativa.\n"
   ]
  },
  {
   "cell_type": "code",
   "execution_count": null,
   "id": "82f9015d",
   "metadata": {},
   "outputs": [],
   "source": [
    "# Conteo de valores nulos\n",
    "print(\"Valores nulos por columna:\\n\")\n",
    "print(df.isnull().sum())\n",
    "\n",
    "# Conteo de ceros\n",
    "print(\"\\nCantidad de ceros por columna:\\n\")\n",
    "print((df == 0).sum())"
   ]
  },
  {
   "cell_type": "markdown",
   "id": "9575e5b3",
   "metadata": {},
   "source": [
    "##  Eliminación de columnas irrelevantes\n",
    "\n",
    "Con base en el análisis de valores nulos y ceros, se eliminaron varias columnas que presentan problemas de calidad o baja relevancia para el análisis general del rendimiento de los jugadores.\n",
    "\n",
    "###  Criterios utilizados:\n",
    "\n",
    "- Columnas con **más del 50% de valores nulos** (más de 250).\n",
    "- Columnas con **baja variabilidad o demasiados ceros**, lo que indica poca utilidad en el modelo.\n",
    "- Columnas específicas para **porteros**, que no aplican a la mayoría de los jugadores de campo.\n",
    "- Columnas **categóricas no numéricas** (`Nombre`, `Club`, `Posición`, `Nacionalidad`), que no se usarán en este análisis.\n",
    "\n",
    "###  Columnas eliminadas:\n",
    "\n",
    "- **Identificadores y datos no numéricos:** `Nombre`, `Número_Camiseta`, `Club`, `Posición`, `Nacionalidad`\n",
    "- **Columnas con más del 50% de valores nulos:** \n",
    "  - `Goles_por_partido`, `Penales_anotados`, `Tiros_libres_anotados`, `Disparos`, `Disparos_al_arco`\n",
    "  - `Precisión_disparo_%`, `Ocasiones_claras_falladas`, `Porterías_a_cero`, `Goles_contra`\n",
    "  - `Entradas_como_último_hombre`, `Despejes_sobre_la_línea`, `Precisión_centros_%`, `Pases_filtrados`\n",
    "  - `Pases_largos_acertados`, `Atajadas`, `Penales_atajados`, `Despejes_con_los_puños`, `Cortes_altos`\n",
    "  - `Atajadas_con_las_manos`, `Cierres_como_líbero`, `Saque_con_las_manos`, `Saque_de_meta`\n",
    "- **Otras con valores poco informativos o muy constantes:** `Autogoles`, `Errores_que_generan_gol`, `Tarjetas_rojas`\n",
    "\n",
    "Estas columnas fueron eliminadas para mejorar la calidad del dataset y dejar únicamente variables relevantes y generalizables para modelos predictivos.\n"
   ]
  },
  {
   "cell_type": "code",
   "execution_count": 8,
   "id": "cf241cc4",
   "metadata": {},
   "outputs": [],
   "source": [
    "columnas_a_eliminar = [\n",
    "    \"Nombre\", \"Número_Camiseta\", \"Club\", \"Posición\", \"Nacionalidad\",\n",
    "    \"Goles_por_partido\", \"Penales_anotados\", \"Tiros_libres_anotados\", \"Disparos\", \"Disparos_al_arco\",\n",
    "    \"Precisión_disparo_%\", \"Ocasiones_claras_falladas\", \"Porterías_a_cero\", \"Goles_contra\",\n",
    "    \"Entradas_como_último_hombre\", \"Despejes_sobre_la_línea\", \"Precisión_centros_%\", \"Pases_filtrados\",\n",
    "    \"Pases_largos_acertados\", \"Atajadas\", \"Penales_atajados\", \"Despejes_con_los_puños\", \"Cortes_altos\",\n",
    "    \"Atajadas_con_las_manos\", \"Cierres_como_líbero\", \"Saque_con_las_manos\", \"Saque_de_meta\",\n",
    "    \"Autogoles\", \"Errores_que_generan_gol\", \"Tarjetas_rojas\"\n",
    "]\n",
    "\n",
    "# Eliminar solo si la columna existe (para evitar errores)\n",
    "df = df.drop(columns=[col for col in columnas_a_eliminar if col in df.columns])\n",
    "\n"
   ]
  },
  {
   "cell_type": "markdown",
   "id": "1fb8910f",
   "metadata": {},
   "source": [
    "## Varianza por columna\n",
    "\n",
    "La varianza mide la dispersión de los datos en cada columna numérica. Una varianza alta indica que los valores están muy separados entre sí; una varianza baja indica que los valores están más agrupados.\n",
    "\n",
    "Este análisis permite identificar variables que pueden tener poca variación y, por lo tanto, menor relevancia predictiva. No es obligatorio eliminar columnas con baja varianza, pero puede ser útil para simplificar modelos.\n"
   ]
  },
  {
   "cell_type": "code",
   "execution_count": 9,
   "id": "e5dc7a98",
   "metadata": {},
   "outputs": [
    {
     "name": "stdout",
     "output_type": "stream",
     "text": [
      "Varianza por columna:\n",
      "\n",
      "Edad                        1.916122e+01\n",
      "Apariciones                 6.690834e+03\n",
      "Victorias                   1.518612e+03\n",
      "Derrotas                    8.115876e+02\n",
      "Goles                       2.825926e+02\n",
      "Goles_de_cabeza             1.178806e+01\n",
      "Goles_con_pie_derecho       1.220658e+02\n",
      "Goles_con_pie_izquierdo     3.963524e+01\n",
      "Tiros_al_palo               1.506804e+01\n",
      "Entradas                    2.006365e+04\n",
      "Éxito_entradas_%            7.812339e+02\n",
      "Disparos_bloqueados         1.045501e+03\n",
      "Intercepciones              1.191738e+04\n",
      "Despejes                    9.391794e+04\n",
      "Despejes_de_cabeza          2.065401e+04\n",
      "Recuperaciones              1.634164e+05\n",
      "Duelos_ganados              1.508059e+05\n",
      "Duelos_perdidos             1.165941e+05\n",
      "Duelos_50_50_exitosos       5.531624e+03\n",
      "Duelos_aéreos_ganados       2.493802e+04\n",
      "Duelos_aéreos_perdidos      1.204544e+04\n",
      "Asistencias                 9.529205e+01\n",
      "Pases                       9.779546e+06\n",
      "Pases_por_partido           3.447300e+02\n",
      "Ocasiones_claras_creadas    1.792041e+02\n",
      "Centros                     5.998425e+04\n",
      "Tarjetas_amarillas          1.335599e+02\n",
      "Faltas                      5.716201e+03\n",
      "Fueras_de_juego             7.059680e+02\n",
      "dtype: float64\n"
     ]
    }
   ],
   "source": [
    "# Calcular la varianza de todas las columnas numéricas\n",
    "varianzas = df.var(numeric_only=True)\n",
    "\n",
    "# Mostrar la varianza de cada columna\n",
    "print(\"Varianza por columna:\\n\")\n",
    "print(varianzas)\n"
   ]
  },
  {
   "cell_type": "markdown",
   "id": "64b3be26",
   "metadata": {},
   "source": [
    "##  Análisis de varianza por columna\n",
    "\n",
    "La varianza mide la dispersión de los valores en una variable. Cuanto mayor es la varianza, más diversa es la distribución de los datos en esa columna. Este análisis permite detectar variables con **poca variabilidad**, que podrían aportar **menos información** a modelos predictivos, así como identificar aquellas con **alta varianza**, que pueden ser más significativas.\n",
    "\n",
    "###  Columnas con mayor varianza\n",
    "Las siguientes variables muestran una alta dispersión entre jugadores, lo que indica diferencias notables en el rendimiento o participación. Son ideales para conservar en el análisis:\n",
    "\n",
    "- **Pases** (`~9.7 millones`): enorme varianza, refleja grandes diferencias en participación entre jugadores.\n",
    "- **Recuperaciones**, **Duelos ganados**, **Duelos perdidos**: reflejan el impacto defensivo.\n",
    "- **Despejes** y **Centros**: tareas específicas en jugadores defensivos y de banda.\n",
    "\n",
    "Estas columnas son útiles para modelar roles y rendimiento según la posición y comportamiento en el juego.\n",
    "\n",
    "---\n",
    "\n",
    "###  Columnas con menor varianza\n",
    "Las siguientes columnas muestran valores más agrupados o concentrados, por lo que podrían aportar menos información al modelo:\n",
    "\n",
    "- **Edad**: la mayoría de los jugadores está en un rango similar.\n",
    "- **Goles de cabeza**, **Tiros al palo**, **Asistencias**, **Tarjetas amarillas**: varían poco entre jugadores.\n",
    "- **Goles** y **Goles con pie izquierdo o derecho**: aunque aportan valor ofensivo, su variabilidad es más limitada.\n",
    "\n",
    "Estas columnas **no necesariamente deben eliminarse**, pero podrían analizarse más a fondo si se busca optimizar un modelo predictivo reduciendo la cantidad de variables.\n",
    "\n"
   ]
  },
  {
   "cell_type": "markdown",
   "id": "d2d4215c",
   "metadata": {},
   "source": [
    "\n",
    "\n",
    "##  Conclusión general del análisis\n",
    "\n",
    "En este notebook se realizó un análisis exploratorio completo del dataset de estadísticas históricas de jugadores de la Premier League, con el propósito de preparar los datos para futuros modelos de predicción del rendimiento.\n",
    "\n",
    "###  Resumen de pasos realizados:\n",
    "\n",
    "-  Se cargó el dataset y se identificaron **valores nulos** y **valores en cero** por columna, lo que permitió detectar posibles problemas de calidad en los datos.\n",
    "-  Se eliminaron columnas **irrelevantes o con más del 50% de valores nulos**, incluyendo estadísticas específicas para porteros y datos categóricos no útiles para el análisis numérico.\n",
    "-  Se realizó un análisis de **varianza**, que permitió identificar qué columnas presentan mayor dispersión de datos y por tanto podrían tener un mayor peso explicativo en modelos predictivos.\n",
    "-  Se analizaron variables con **baja varianza**, que si bien no fueron eliminadas automáticamente, podrían ser descartadas si se decide reducir la complejidad del modelo.\n",
    "\n",
    "###  Resultado\n",
    "\n",
    "El dataset final ha sido depurado y contiene variables numéricas relevantes, limpias y adecuadas para análisis estadístico y desarrollo de modelos de machine learning orientados a predecir el rendimiento de los jugadores.\n",
    "\n",
    "Este trabajo sienta una base sólida para construir modelos que aprovechen datos históricos reales de la Premier League y generen información útil para scouting, análisis de desempeño y toma de decisiones estratégicas en el fútbol.\n"
   ]
  }
 ],
 "metadata": {
  "kernelspec": {
   "display_name": "Python 3",
   "language": "python",
   "name": "python3"
  },
  "language_info": {
   "codemirror_mode": {
    "name": "ipython",
    "version": 3
   },
   "file_extension": ".py",
   "mimetype": "text/x-python",
   "name": "python",
   "nbconvert_exporter": "python",
   "pygments_lexer": "ipython3",
   "version": "3.13.3"
  }
 },
 "nbformat": 4,
 "nbformat_minor": 5
}
